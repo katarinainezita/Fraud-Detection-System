{
  "nbformat": 4,
  "nbformat_minor": 0,
  "metadata": {
    "colab": {
      "provenance": [],
      "gpuType": "T4"
    },
    "kernelspec": {
      "name": "python3",
      "display_name": "Python 3"
    },
    "language_info": {
      "name": "python"
    },
    "accelerator": "GPU"
  },
  "cells": [
    {
      "cell_type": "markdown",
      "source": [
        "# Skenario 1 : Dataset 1, Tanpa KFold"
      ],
      "metadata": {
        "id": "ybfJSputfhDQ"
      }
    },
    {
      "cell_type": "code",
      "execution_count": null,
      "metadata": {
        "id": "MwdeGsVNfeaa",
        "colab": {
          "base_uri": "https://localhost:8080/"
        },
        "outputId": "c95dccbe-1c32-42c9-8e3b-d81d07385193"
      },
      "outputs": [
        {
          "output_type": "stream",
          "name": "stdout",
          "text": [
            "Hasil Evaluasi Menggunakan Data Train:\n",
            "Akurasi: 0.42266500184654343\n",
            "Laporan Klasifikasi:\n",
            "              precision    recall  f1-score   support\n",
            "\n",
            "           0       0.11      0.02      0.04    227565\n",
            "           1       0.46      0.82      0.59    227339\n",
            "\n",
            "    accuracy                           0.42    454904\n",
            "   macro avg       0.29      0.42      0.31    454904\n",
            "weighted avg       0.29      0.42      0.31    454904\n",
            "\n",
            "\n",
            "Hasil Evaluasi Menggunakan Data Test:\n",
            "Akurasi: 0.42320137875244007\n",
            "Laporan Klasifikasi:\n",
            "              precision    recall  f1-score   support\n",
            "\n",
            "           0       0.12      0.02      0.04     56750\n",
            "           1       0.46      0.82      0.59     56976\n",
            "\n",
            "    accuracy                           0.42    113726\n",
            "   macro avg       0.29      0.42      0.31    113726\n",
            "weighted avg       0.29      0.42      0.31    113726\n",
            "\n"
          ]
        }
      ],
      "source": [
        "import pandas as pd\n",
        "from sklearn.ensemble import IsolationForest\n",
        "from sklearn.model_selection import train_test_split\n",
        "from sklearn.metrics import accuracy_score, classification_report\n",
        "\n",
        "# 1. Import dataset\n",
        "data_train = pd.read_csv('dataset1.csv')\n",
        "\n",
        "# 2. Pisahkan fitur (X) dan label (y)\n",
        "X = data_train.drop('Class', axis=1)\n",
        "y = data_train['Class'].astype('int64')\n",
        "\n",
        "# 3. Train-test split (80% data latih, 20% data uji)\n",
        "X_train, X_test, y_train, y_test = train_test_split(X, y, test_size=0.2, random_state=42)\n",
        "\n",
        "# 4. Model Isolation Forest\n",
        "iso_forest = IsolationForest(contamination=0.1, random_state=42)\n",
        "iso_forest.fit(X_train)\n",
        "\n",
        "# 5. Prediksi\n",
        "# Isolation Forest mengembalikan -1 untuk outlier dan 1 untuk inlier\n",
        "y_train_pred = iso_forest.predict(X_train)\n",
        "y_test_pred = iso_forest.predict(X_test)\n",
        "\n",
        "# Konversi prediksi (-1 menjadi 0 untuk kesesuaian label biner 0/1)\n",
        "y_train_pred = [0 if x == -1 else 1 for x in y_train_pred]\n",
        "y_test_pred = [0 if x == -1 else 1 for x in y_test_pred]\n",
        "\n",
        "# 6. Evaluasi performa model\n",
        "print(\"Hasil Evaluasi Menggunakan Data Train:\")\n",
        "print(\"Akurasi:\", accuracy_score(y_train, y_train_pred))\n",
        "print(\"Laporan Klasifikasi:\")\n",
        "print(classification_report(y_train, y_train_pred))\n",
        "\n",
        "print(\"\\nHasil Evaluasi Menggunakan Data Test:\")\n",
        "print(\"Akurasi:\", accuracy_score(y_test, y_test_pred))\n",
        "print(\"Laporan Klasifikasi:\")\n",
        "print(classification_report(y_test, y_test_pred))\n"
      ]
    },
    {
      "cell_type": "markdown",
      "source": [
        "# Skenario 2 : Dataset 1, Dengan KFold"
      ],
      "metadata": {
        "id": "hoqdEvv8fk02"
      }
    },
    {
      "cell_type": "code",
      "source": [
        "import pandas as pd\n",
        "from sklearn.ensemble import IsolationForest\n",
        "from sklearn.model_selection import KFold\n",
        "from sklearn.metrics import accuracy_score, classification_report\n",
        "\n",
        "# 1. Import dataset\n",
        "data_train = pd.read_csv('dataset1.csv')\n",
        "\n",
        "# 2. Pisahkan fitur (X) dan label (y)\n",
        "X = data_train.drop('Class', axis=1)\n",
        "y = data_train['Class'].astype('int64')\n",
        "\n",
        "# 3. Setup K-Fold (misalnya K=5)\n",
        "kf = KFold(n_splits=5, shuffle=True, random_state=42)\n",
        "\n",
        "# 4. Model Isolation Forest\n",
        "iso_forest = IsolationForest(contamination=0.1, random_state=42)\n",
        "\n",
        "# 5. K-Fold Cross Validation\n",
        "for fold, (train_idx, val_idx) in enumerate(kf.split(X), 1):\n",
        "    print(f\"\\nFold {fold}\")\n",
        "\n",
        "    # Pisahkan data latih dan validasi berdasarkan indeks K-Fold\n",
        "    X_train, X_val = X.iloc[train_idx], X.iloc[val_idx]\n",
        "    y_train, y_val = y.iloc[train_idx], y.iloc[val_idx]\n",
        "\n",
        "    # Latih model\n",
        "    iso_forest.fit(X_train)\n",
        "\n",
        "    # Prediksi pada data validasi\n",
        "    y_val_pred = iso_forest.predict(X_val)\n",
        "\n",
        "    # Konversi prediksi (-1 menjadi 0 untuk kesesuaian label biner 0/1)\n",
        "    y_val_pred = [0 if x == -1 else 1 for x in y_val_pred]\n",
        "\n",
        "    # Evaluasi performa model\n",
        "    print(\"Akurasi:\", accuracy_score(y_val, y_val_pred))\n",
        "    print(\"Laporan Klasifikasi:\")\n",
        "    print(classification_report(y_val, y_val_pred))\n"
      ],
      "metadata": {
        "id": "AOEPu41rfmuJ",
        "colab": {
          "base_uri": "https://localhost:8080/"
        },
        "outputId": "4d643023-c9fc-4109-8f3c-f732ce3b2a05"
      },
      "execution_count": null,
      "outputs": [
        {
          "output_type": "stream",
          "name": "stdout",
          "text": [
            "\n",
            "Fold 1\n",
            "Akurasi: 0.42012380634155777\n",
            "Laporan Klasifikasi:\n",
            "              precision    recall  f1-score   support\n",
            "\n",
            "           0       0.10      0.02      0.03     56750\n",
            "           1       0.46      0.82      0.59     56976\n",
            "\n",
            "    accuracy                           0.42    113726\n",
            "   macro avg       0.28      0.42      0.31    113726\n",
            "weighted avg       0.28      0.42      0.31    113726\n",
            "\n",
            "\n",
            "Fold 2\n",
            "Akurasi: 0.42129328385769305\n",
            "Laporan Klasifikasi:\n",
            "              precision    recall  f1-score   support\n",
            "\n",
            "           0       0.12      0.02      0.04     56950\n",
            "           1       0.46      0.82      0.59     56776\n",
            "\n",
            "    accuracy                           0.42    113726\n",
            "   macro avg       0.29      0.42      0.31    113726\n",
            "weighted avg       0.29      0.42      0.31    113726\n",
            "\n",
            "\n",
            "Fold 3\n",
            "Akurasi: 0.4199919103810914\n",
            "Laporan Klasifikasi:\n",
            "              precision    recall  f1-score   support\n",
            "\n",
            "           0       0.10      0.02      0.03     56861\n",
            "           1       0.46      0.82      0.59     56865\n",
            "\n",
            "    accuracy                           0.42    113726\n",
            "   macro avg       0.28      0.42      0.31    113726\n",
            "weighted avg       0.28      0.42      0.31    113726\n",
            "\n",
            "\n",
            "Fold 4\n",
            "Akurasi: 0.42295517295956947\n",
            "Laporan Klasifikasi:\n",
            "              precision    recall  f1-score   support\n",
            "\n",
            "           0       0.11      0.02      0.03     56804\n",
            "           1       0.46      0.82      0.59     56922\n",
            "\n",
            "    accuracy                           0.42    113726\n",
            "   macro avg       0.28      0.42      0.31    113726\n",
            "weighted avg       0.28      0.42      0.31    113726\n",
            "\n",
            "\n",
            "Fold 5\n",
            "Akurasi: 0.41746830100416793\n",
            "Laporan Klasifikasi:\n",
            "              precision    recall  f1-score   support\n",
            "\n",
            "           0       0.09      0.02      0.03     56950\n",
            "           1       0.45      0.82      0.58     56776\n",
            "\n",
            "    accuracy                           0.42    113726\n",
            "   macro avg       0.27      0.42      0.31    113726\n",
            "weighted avg       0.27      0.42      0.31    113726\n",
            "\n"
          ]
        }
      ]
    },
    {
      "cell_type": "markdown",
      "source": [
        "# Skenario 3 : Dataset 2, Tanpa KFold"
      ],
      "metadata": {
        "id": "ORV1rv6wfm53"
      }
    },
    {
      "cell_type": "code",
      "source": [
        "import pandas as pd\n",
        "from sklearn.ensemble import IsolationForest\n",
        "from sklearn.model_selection import train_test_split\n",
        "from sklearn.metrics import accuracy_score, classification_report\n",
        "\n",
        "# 1. Import dataset\n",
        "data_train = pd.read_csv('dataset2.csv')\n",
        "\n",
        "# 2. Pisahkan fitur (X) dan label (y)\n",
        "X = data_train.drop('Class', axis=1)\n",
        "y = data_train['Class'].astype('int64')\n",
        "\n",
        "# 3. Train-test split (80% data latih, 20% data uji)\n",
        "X_train, X_test, y_train, y_test = train_test_split(X, y, test_size=0.2, random_state=42)\n",
        "\n",
        "# 4. Model Isolation Forest\n",
        "iso_forest = IsolationForest(contamination=0.1, random_state=42)\n",
        "iso_forest.fit(X_train)\n",
        "\n",
        "# 5. Prediksi\n",
        "# Isolation Forest mengembalikan -1 untuk outlier dan 1 untuk inlier\n",
        "y_train_pred = iso_forest.predict(X_train)\n",
        "y_test_pred = iso_forest.predict(X_test)\n",
        "\n",
        "# Konversi prediksi (-1 menjadi 0 untuk kesesuaian label biner 0/1)\n",
        "y_train_pred = [0 if x == -1 else 1 for x in y_train_pred]\n",
        "y_test_pred = [0 if x == -1 else 1 for x in y_test_pred]\n",
        "\n",
        "# 6. Evaluasi performa model\n",
        "print(\"Hasil Evaluasi Menggunakan Data Train:\")\n",
        "print(\"Akurasi:\", accuracy_score(y_train, y_train_pred))\n",
        "print(\"Laporan Klasifikasi:\")\n",
        "print(classification_report(y_train, y_train_pred))\n",
        "\n",
        "print(\"\\nHasil Evaluasi Menggunakan Data Test:\")\n",
        "print(\"Akurasi:\", accuracy_score(y_test, y_test_pred))\n",
        "print(\"Laporan Klasifikasi:\")\n",
        "print(classification_report(y_test, y_test_pred))\n"
      ],
      "metadata": {
        "id": "K12svlOhfoqn",
        "colab": {
          "base_uri": "https://localhost:8080/"
        },
        "outputId": "01f8d391-9e04-460d-c774-1172942f0d5f"
      },
      "execution_count": null,
      "outputs": [
        {
          "output_type": "stream",
          "name": "stdout",
          "text": [
            "Hasil Evaluasi Menggunakan Data Train:\n",
            "Akurasi: 0.4061129204508345\n",
            "Laporan Klasifikasi:\n",
            "              precision    recall  f1-score   support\n",
            "\n",
            "           0       0.03      0.01      0.01    226790\n",
            "           1       0.45      0.81      0.58    226414\n",
            "\n",
            "    accuracy                           0.41    453204\n",
            "   macro avg       0.24      0.41      0.29    453204\n",
            "weighted avg       0.24      0.41      0.29    453204\n",
            "\n",
            "\n",
            "Hasil Evaluasi Menggunakan Data Test:\n",
            "Akurasi: 0.40646237489188186\n",
            "Laporan Klasifikasi:\n",
            "              precision    recall  f1-score   support\n",
            "\n",
            "           0       0.03      0.01      0.01     56463\n",
            "           1       0.45      0.80      0.58     56839\n",
            "\n",
            "    accuracy                           0.41    113302\n",
            "   macro avg       0.24      0.41      0.29    113302\n",
            "weighted avg       0.24      0.41      0.29    113302\n",
            "\n"
          ]
        }
      ]
    },
    {
      "cell_type": "markdown",
      "source": [
        "# Skenario 4 : Dataset 2, Dengan KFold"
      ],
      "metadata": {
        "id": "AnNvuH0Tfo5y"
      }
    },
    {
      "cell_type": "code",
      "source": [
        "from google.colab import drive\n",
        "drive.mount('/content/drive')"
      ],
      "metadata": {
        "colab": {
          "base_uri": "https://localhost:8080/"
        },
        "id": "cWqIQU2p0i6g",
        "outputId": "cbe9b5d7-0684-4dbc-8ff7-174e28d9499e"
      },
      "execution_count": null,
      "outputs": [
        {
          "output_type": "stream",
          "name": "stdout",
          "text": [
            "Mounted at /content/drive\n"
          ]
        }
      ]
    },
    {
      "cell_type": "code",
      "source": [
        "import pandas as pd\n",
        "\n",
        "# Path ke file di Google Drive\n",
        "file_path = '/content/drive/My Drive/FP RSBP/dataset1.csv'\n",
        "\n",
        "# Membaca file CSV\n",
        "df = pd.read_csv(file_path)\n",
        "print(df.head())"
      ],
      "metadata": {
        "colab": {
          "base_uri": "https://localhost:8080/"
        },
        "id": "EdhKrP6d0tSG",
        "outputId": "dabdb1b2-eb79-4486-d896-4a64508584df"
      },
      "execution_count": null,
      "outputs": [
        {
          "output_type": "stream",
          "name": "stdout",
          "text": [
            "         V1        V3        V4        V5        V7        V8       V10  \\\n",
            "0 -0.260648  2.496266 -0.083724  0.129681  0.519014 -0.130006  0.637735   \n",
            "1  0.985100  0.558056 -0.429654  0.277140  0.406466 -0.133118  0.529808   \n",
            "2 -0.260272  1.728538 -0.457986  0.074062  0.743511 -0.095576  0.690708   \n",
            "3 -0.152152  1.746840 -1.090178  0.249486  0.518269 -0.065130  0.575231   \n",
            "4 -0.206820  1.527053 -0.448293  0.106125  0.658849 -0.212660  0.968046   \n",
            "\n",
            "        V11       V12       V13       V14       V17       V18       V19  \\\n",
            "0 -0.987020  0.293438 -0.941386  0.549020  0.512307  0.333644  0.124270   \n",
            "1  0.140107  1.564246  0.574074  0.627719  0.403810  0.201799 -0.340687   \n",
            "2 -0.272985  0.659201  0.805173  0.616874  0.886526  0.239442 -2.366079   \n",
            "3 -0.752581  0.737483  0.592994  0.559535  0.242629  2.178616 -1.345060   \n",
            "4 -1.203171  1.029577  1.439310  0.241454  0.366466  0.291782  0.445317   \n",
            "\n",
            "        V23       V26       V28  Class  \n",
            "0 -0.134794 -0.434824 -0.151045      0  \n",
            "1  0.079469  0.296503 -0.064512      0  \n",
            "2  0.945045 -0.312895 -0.244718      0  \n",
            "3 -0.214048 -0.515950  0.048424      0  \n",
            "4 -0.161666  1.071126  0.419117      0  \n"
          ]
        }
      ]
    },
    {
      "cell_type": "code",
      "source": [
        "import pandas as pd\n",
        "from sklearn.ensemble import IsolationForest\n",
        "from sklearn.model_selection import KFold\n",
        "from sklearn.metrics import accuracy_score, classification_report\n",
        "\n",
        "# 1. Import dataset\n",
        "data_train = df\n",
        "\n",
        "# 2. Pisahkan fitur (X) dan label (y)\n",
        "X = data_train.drop('Class', axis=1)\n",
        "y = data_train['Class'].astype('int64')\n",
        "\n",
        "# 3. Setup K-Fold (misalnya K=5)\n",
        "kf = KFold(n_splits=5, shuffle=True, random_state=42)\n",
        "\n",
        "# 4. Model Isolation Forest\n",
        "iso_forest = IsolationForest(contamination=0.1, random_state=42)\n",
        "\n",
        "# 5. K-Fold Cross Validation\n",
        "for fold, (train_idx, val_idx) in enumerate(kf.split(X), 1):\n",
        "    print(f\"\\nFold {fold}\")\n",
        "\n",
        "    # Pisahkan data latih dan validasi berdasarkan indeks K-Fold\n",
        "    X_train, X_val = X.iloc[train_idx], X.iloc[val_idx]\n",
        "    y_train, y_val = y.iloc[train_idx], y.iloc[val_idx]\n",
        "\n",
        "    # Latih model\n",
        "    iso_forest.fit(X_train)\n",
        "\n",
        "    # Prediksi pada data validasi\n",
        "    y_val_pred = iso_forest.predict(X_val)\n",
        "\n",
        "    # Konversi prediksi (-1 menjadi 0 untuk kesesuaian label biner 0/1)\n",
        "    y_val_pred = [0 if x == -1 else 1 for x in y_val_pred]\n",
        "\n",
        "    # Evaluasi performa model\n",
        "    print(\"Akurasi:\", accuracy_score(y_val, y_val_pred))\n",
        "    print(\"Laporan Klasifikasi:\")\n",
        "    print(classification_report(y_val, y_val_pred))\n"
      ],
      "metadata": {
        "id": "qmBoON4UfrDx",
        "colab": {
          "base_uri": "https://localhost:8080/"
        },
        "outputId": "205ea440-8927-4fd2-8e3b-85bacdc7d108"
      },
      "execution_count": null,
      "outputs": [
        {
          "output_type": "stream",
          "name": "stdout",
          "text": [
            "\n",
            "Fold 1\n",
            "Akurasi: 0.42012380634155777\n",
            "Laporan Klasifikasi:\n",
            "              precision    recall  f1-score   support\n",
            "\n",
            "           0       0.10      0.02      0.03     56750\n",
            "           1       0.46      0.82      0.59     56976\n",
            "\n",
            "    accuracy                           0.42    113726\n",
            "   macro avg       0.28      0.42      0.31    113726\n",
            "weighted avg       0.28      0.42      0.31    113726\n",
            "\n",
            "\n",
            "Fold 2\n",
            "Akurasi: 0.42129328385769305\n",
            "Laporan Klasifikasi:\n",
            "              precision    recall  f1-score   support\n",
            "\n",
            "           0       0.12      0.02      0.04     56950\n",
            "           1       0.46      0.82      0.59     56776\n",
            "\n",
            "    accuracy                           0.42    113726\n",
            "   macro avg       0.29      0.42      0.31    113726\n",
            "weighted avg       0.29      0.42      0.31    113726\n",
            "\n",
            "\n",
            "Fold 3\n",
            "Akurasi: 0.4199919103810914\n",
            "Laporan Klasifikasi:\n",
            "              precision    recall  f1-score   support\n",
            "\n",
            "           0       0.10      0.02      0.03     56861\n",
            "           1       0.46      0.82      0.59     56865\n",
            "\n",
            "    accuracy                           0.42    113726\n",
            "   macro avg       0.28      0.42      0.31    113726\n",
            "weighted avg       0.28      0.42      0.31    113726\n",
            "\n",
            "\n",
            "Fold 4\n",
            "Akurasi: 0.42295517295956947\n",
            "Laporan Klasifikasi:\n",
            "              precision    recall  f1-score   support\n",
            "\n",
            "           0       0.11      0.02      0.03     56804\n",
            "           1       0.46      0.82      0.59     56922\n",
            "\n",
            "    accuracy                           0.42    113726\n",
            "   macro avg       0.28      0.42      0.31    113726\n",
            "weighted avg       0.28      0.42      0.31    113726\n",
            "\n",
            "\n",
            "Fold 5\n",
            "Akurasi: 0.41746830100416793\n",
            "Laporan Klasifikasi:\n",
            "              precision    recall  f1-score   support\n",
            "\n",
            "           0       0.09      0.02      0.03     56950\n",
            "           1       0.45      0.82      0.58     56776\n",
            "\n",
            "    accuracy                           0.42    113726\n",
            "   macro avg       0.27      0.42      0.31    113726\n",
            "weighted avg       0.27      0.42      0.31    113726\n",
            "\n"
          ]
        }
      ]
    }
  ]
}