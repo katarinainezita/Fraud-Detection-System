{
  "nbformat": 4,
  "nbformat_minor": 0,
  "metadata": {
    "colab": {
      "provenance": []
    },
    "kernelspec": {
      "name": "python3",
      "display_name": "Python 3"
    },
    "language_info": {
      "name": "python"
    }
  },
  "cells": [
    {
      "cell_type": "code",
      "source": [
        "pip install xgboost"
      ],
      "metadata": {
        "id": "PxJZdK30ctGg",
        "colab": {
          "base_uri": "https://localhost:8080/"
        },
        "outputId": "1d97329d-676f-4b6a-fb06-4bd29edd0115"
      },
      "execution_count": null,
      "outputs": [
        {
          "output_type": "stream",
          "name": "stdout",
          "text": [
            "Requirement already satisfied: xgboost in /usr/local/lib/python3.10/dist-packages (2.1.3)\n",
            "Requirement already satisfied: numpy in /usr/local/lib/python3.10/dist-packages (from xgboost) (1.26.4)\n",
            "Requirement already satisfied: nvidia-nccl-cu12 in /usr/local/lib/python3.10/dist-packages (from xgboost) (2.23.4)\n",
            "Requirement already satisfied: scipy in /usr/local/lib/python3.10/dist-packages (from xgboost) (1.13.1)\n"
          ]
        }
      ]
    },
    {
      "cell_type": "markdown",
      "source": [
        "# Skenario 1 : Dataset 1, Tanpa KFold"
      ],
      "metadata": {
        "id": "azf4Ur4OcWw_"
      }
    },
    {
      "cell_type": "code",
      "execution_count": null,
      "metadata": {
        "id": "-kzbzHQ-cLmQ",
        "colab": {
          "base_uri": "https://localhost:8080/"
        },
        "outputId": "03e56d53-53df-4cfd-d7d9-9602f2428bc8"
      },
      "outputs": [
        {
          "output_type": "stream",
          "name": "stderr",
          "text": [
            "/usr/local/lib/python3.10/dist-packages/xgboost/core.py:158: UserWarning: [16:28:31] WARNING: /workspace/src/learner.cc:740: \n",
            "Parameters: { \"use_label_encoder\" } are not used.\n",
            "\n",
            "  warnings.warn(smsg, UserWarning)\n"
          ]
        },
        {
          "output_type": "stream",
          "name": "stdout",
          "text": [
            "Hasil evaluasi menggunakan data pelatihan:\n",
            "Akurasi pada Data Pelatihan: 0.9999120693596891\n",
            "Laporan Klasifikasi:\n",
            "              precision    recall  f1-score   support\n",
            "\n",
            "           0       1.00      1.00      1.00    227565\n",
            "           1       1.00      1.00      1.00    227339\n",
            "\n",
            "    accuracy                           1.00    454904\n",
            "   macro avg       1.00      1.00      1.00    454904\n",
            "weighted avg       1.00      1.00      1.00    454904\n",
            "\n",
            "--------------------------------------------------\n",
            "Hasil evaluasi menggunakan data test:\n",
            "Akurasi pada Data Test: 0.9995075884142588\n",
            "Laporan Klasifikasi:\n",
            "              precision    recall  f1-score   support\n",
            "\n",
            "           0       1.00      1.00      1.00     56750\n",
            "           1       1.00      1.00      1.00     56976\n",
            "\n",
            "    accuracy                           1.00    113726\n",
            "   macro avg       1.00      1.00      1.00    113726\n",
            "weighted avg       1.00      1.00      1.00    113726\n",
            "\n"
          ]
        }
      ],
      "source": [
        "import pandas as pd\n",
        "from xgboost import XGBClassifier\n",
        "from sklearn.metrics import accuracy_score, classification_report\n",
        "from sklearn.model_selection import train_test_split\n",
        "\n",
        "# 1. Import dataset\n",
        "data_train = pd.read_csv('dataset1.csv')\n",
        "\n",
        "# 2. Pisahkan fitur (X) dan label (y)\n",
        "X = data_train.drop('Class', axis=1)\n",
        "y = data_train['Class'].astype('int64')\n",
        "\n",
        "# 3. Membagi data menjadi data training dan data testing (80% train, 20% test)\n",
        "X_train, X_test, y_train, y_test = train_test_split(X, y, test_size=0.2, random_state=42)\n",
        "\n",
        "# 4. Model XGBoost\n",
        "xgb_model = XGBClassifier(use_label_encoder=False, eval_metric='logloss', random_state=42)\n",
        "\n",
        "# Melatih model\n",
        "xgb_model.fit(X_train, y_train)\n",
        "\n",
        "# 5. Prediksi pada data training\n",
        "y_train_pred = xgb_model.predict(X_train)\n",
        "\n",
        "print(\"Hasil evaluasi menggunakan data pelatihan:\")\n",
        "train_accuracy = accuracy_score(y_train, y_train_pred)\n",
        "train_report = classification_report(y_train, y_train_pred)\n",
        "print(\"Akurasi pada Data Pelatihan:\", train_accuracy)\n",
        "print(\"Laporan Klasifikasi:\")\n",
        "print(train_report)\n",
        "print(\"-\" * 50)\n",
        "\n",
        "# 6. Prediksi pada data test\n",
        "y_test_pred = xgb_model.predict(X_test)\n",
        "\n",
        "print(\"Hasil evaluasi menggunakan data test:\")\n",
        "test_accuracy = accuracy_score(y_test, y_test_pred)\n",
        "test_report = classification_report(y_test, y_test_pred)\n",
        "print(\"Akurasi pada Data Test:\", test_accuracy)\n",
        "print(\"Laporan Klasifikasi:\")\n",
        "print(test_report)"
      ]
    },
    {
      "cell_type": "code",
      "source": [
        "from google.colab import drive\n",
        "drive.mount('/content/drive')"
      ],
      "metadata": {
        "colab": {
          "base_uri": "https://localhost:8080/"
        },
        "id": "7CiOmRmncmG3",
        "outputId": "9fd995a0-1359-40c5-ae3f-eb37cbc191e2"
      },
      "execution_count": null,
      "outputs": [
        {
          "output_type": "stream",
          "name": "stdout",
          "text": [
            "Mounted at /content/drive\n"
          ]
        }
      ]
    },
    {
      "cell_type": "markdown",
      "source": [
        "# Skenario 2 : Dataset 1, Dengan KFold"
      ],
      "metadata": {
        "id": "FRDiUPKEcaee"
      }
    },
    {
      "cell_type": "code",
      "source": [
        "import pandas as pd\n",
        "from xgboost import XGBClassifier\n",
        "from sklearn.metrics import accuracy_score, classification_report\n",
        "from sklearn.model_selection import KFold\n",
        "\n",
        "# 1. Import dataset\n",
        "data_train = pd.read_csv('dataset1.csv')\n",
        "\n",
        "# 2. Pisahkan fitur (X) dan label (y)\n",
        "X = data_train.drop('Class', axis=1)\n",
        "y = data_train['Class'].astype('int64')\n",
        "\n",
        "# 3. K-Fold Cross Validation\n",
        "kf = KFold(n_splits=5, shuffle=True, random_state=42)\n",
        "\n",
        "# 4. Model XGBoost\n",
        "xgb_model = XGBClassifier(use_label_encoder=False, eval_metric='logloss', random_state=42)\n",
        "\n",
        "# Menyimpan hasil evaluasi\n",
        "fold = 1\n",
        "accuracy_scores = []\n",
        "\n",
        "print(\"Evaluasi Model XGBoost Menggunakan K-Fold Cross Validation (k=5)\\n\")\n",
        "\n",
        "for train_index, test_index in kf.split(X):\n",
        "    # Membagi data berdasarkan indeks dari K-Fold\n",
        "    X_train, X_test = X.iloc[train_index], X.iloc[test_index]\n",
        "    y_train, y_test = y.iloc[train_index], y.iloc[test_index]\n",
        "\n",
        "    # Melatih model\n",
        "    xgb_model.fit(X_train, y_train)\n",
        "\n",
        "    # Prediksi pada data test\n",
        "    y_pred = xgb_model.predict(X_test)\n",
        "\n",
        "    # Evaluasi performa model\n",
        "    fold_accuracy = accuracy_score(y_test, y_pred)\n",
        "    accuracy_scores.append(fold_accuracy)\n",
        "\n",
        "    print(f\"Fold {fold}\")\n",
        "    print(\"Akurasi:\", fold_accuracy)\n",
        "    print(\"Laporan Klasifikasi:\")\n",
        "    print(classification_report(y_test, y_pred))\n",
        "    print(\"-\" * 50)\n",
        "\n",
        "    fold += 1\n",
        "\n",
        "# Rata-rata akurasi\n",
        "mean_accuracy = sum(accuracy_scores) / len(accuracy_scores)\n",
        "print(\"Rata-rata Akurasi dari 5-Fold Cross Validation:\", mean_accuracy)\n"
      ],
      "metadata": {
        "id": "cIIwe-UwcdgT",
        "colab": {
          "base_uri": "https://localhost:8080/"
        },
        "outputId": "f651cb2e-bc5d-4124-9b2c-c9e1013b0786"
      },
      "execution_count": null,
      "outputs": [
        {
          "output_type": "stream",
          "name": "stdout",
          "text": [
            "Evaluasi Model XGBoost Menggunakan K-Fold Cross Validation (k=5)\n",
            "\n"
          ]
        },
        {
          "output_type": "stream",
          "name": "stderr",
          "text": [
            "/usr/local/lib/python3.10/dist-packages/xgboost/core.py:158: UserWarning: [16:29:47] WARNING: /workspace/src/learner.cc:740: \n",
            "Parameters: { \"use_label_encoder\" } are not used.\n",
            "\n",
            "  warnings.warn(smsg, UserWarning)\n"
          ]
        },
        {
          "output_type": "stream",
          "name": "stdout",
          "text": [
            "Fold 1\n",
            "Akurasi: 0.9994987953502278\n",
            "Laporan Klasifikasi:\n",
            "              precision    recall  f1-score   support\n",
            "\n",
            "           0       1.00      1.00      1.00     56750\n",
            "           1       1.00      1.00      1.00     56976\n",
            "\n",
            "    accuracy                           1.00    113726\n",
            "   macro avg       1.00      1.00      1.00    113726\n",
            "weighted avg       1.00      1.00      1.00    113726\n",
            "\n",
            "--------------------------------------------------\n"
          ]
        },
        {
          "output_type": "stream",
          "name": "stderr",
          "text": [
            "/usr/local/lib/python3.10/dist-packages/xgboost/core.py:158: UserWarning: [16:29:57] WARNING: /workspace/src/learner.cc:740: \n",
            "Parameters: { \"use_label_encoder\" } are not used.\n",
            "\n",
            "  warnings.warn(smsg, UserWarning)\n"
          ]
        },
        {
          "output_type": "stream",
          "name": "stdout",
          "text": [
            "Fold 2\n",
            "Akurasi: 0.999621898246663\n",
            "Laporan Klasifikasi:\n",
            "              precision    recall  f1-score   support\n",
            "\n",
            "           0       1.00      1.00      1.00     56950\n",
            "           1       1.00      1.00      1.00     56776\n",
            "\n",
            "    accuracy                           1.00    113726\n",
            "   macro avg       1.00      1.00      1.00    113726\n",
            "weighted avg       1.00      1.00      1.00    113726\n",
            "\n",
            "--------------------------------------------------\n"
          ]
        },
        {
          "output_type": "stream",
          "name": "stderr",
          "text": [
            "/usr/local/lib/python3.10/dist-packages/xgboost/core.py:158: UserWarning: [16:30:04] WARNING: /workspace/src/learner.cc:740: \n",
            "Parameters: { \"use_label_encoder\" } are not used.\n",
            "\n",
            "  warnings.warn(smsg, UserWarning)\n"
          ]
        },
        {
          "output_type": "stream",
          "name": "stdout",
          "text": [
            "Fold 3\n",
            "Akurasi: 0.9994724161581344\n",
            "Laporan Klasifikasi:\n",
            "              precision    recall  f1-score   support\n",
            "\n",
            "           0       1.00      1.00      1.00     56861\n",
            "           1       1.00      1.00      1.00     56865\n",
            "\n",
            "    accuracy                           1.00    113726\n",
            "   macro avg       1.00      1.00      1.00    113726\n",
            "weighted avg       1.00      1.00      1.00    113726\n",
            "\n",
            "--------------------------------------------------\n"
          ]
        },
        {
          "output_type": "stream",
          "name": "stderr",
          "text": [
            "/usr/local/lib/python3.10/dist-packages/xgboost/core.py:158: UserWarning: [16:30:14] WARNING: /workspace/src/learner.cc:740: \n",
            "Parameters: { \"use_label_encoder\" } are not used.\n",
            "\n",
            "  warnings.warn(smsg, UserWarning)\n"
          ]
        },
        {
          "output_type": "stream",
          "name": "stdout",
          "text": [
            "Fold 4\n",
            "Akurasi: 0.9994108647099168\n",
            "Laporan Klasifikasi:\n",
            "              precision    recall  f1-score   support\n",
            "\n",
            "           0       1.00      1.00      1.00     56804\n",
            "           1       1.00      1.00      1.00     56922\n",
            "\n",
            "    accuracy                           1.00    113726\n",
            "   macro avg       1.00      1.00      1.00    113726\n",
            "weighted avg       1.00      1.00      1.00    113726\n",
            "\n",
            "--------------------------------------------------\n"
          ]
        },
        {
          "output_type": "stream",
          "name": "stderr",
          "text": [
            "/usr/local/lib/python3.10/dist-packages/xgboost/core.py:158: UserWarning: [16:30:22] WARNING: /workspace/src/learner.cc:740: \n",
            "Parameters: { \"use_label_encoder\" } are not used.\n",
            "\n",
            "  warnings.warn(smsg, UserWarning)\n"
          ]
        },
        {
          "output_type": "stream",
          "name": "stdout",
          "text": [
            "Fold 5\n",
            "Akurasi: 0.9995691398624765\n",
            "Laporan Klasifikasi:\n",
            "              precision    recall  f1-score   support\n",
            "\n",
            "           0       1.00      1.00      1.00     56950\n",
            "           1       1.00      1.00      1.00     56776\n",
            "\n",
            "    accuracy                           1.00    113726\n",
            "   macro avg       1.00      1.00      1.00    113726\n",
            "weighted avg       1.00      1.00      1.00    113726\n",
            "\n",
            "--------------------------------------------------\n",
            "Rata-rata Akurasi dari 5-Fold Cross Validation: 0.9995146228654838\n"
          ]
        }
      ]
    },
    {
      "cell_type": "markdown",
      "source": [
        "# Skenario 3 : Dataset 2, Tanpa KFold"
      ],
      "metadata": {
        "id": "IsRkH8q0cdsV"
      }
    },
    {
      "cell_type": "code",
      "source": [
        "import pandas as pd\n",
        "from xgboost import XGBClassifier\n",
        "from sklearn.metrics import accuracy_score, classification_report\n",
        "from sklearn.model_selection import train_test_split\n",
        "\n",
        "# 1. Import dataset\n",
        "data_train = pd.read_csv('dataset2.csv')\n",
        "\n",
        "# 2. Pisahkan fitur (X) dan label (y)\n",
        "X = data_train.drop('Class', axis=1)\n",
        "y = data_train['Class'].astype('int64')\n",
        "\n",
        "# 3. Membagi data menjadi data training dan data testing (80% train, 20% test)\n",
        "X_train, X_test, y_train, y_test = train_test_split(X, y, test_size=0.2, random_state=42)\n",
        "\n",
        "# 4. Model XGBoost\n",
        "xgb_model = XGBClassifier(use_label_encoder=False, eval_metric='logloss', random_state=42)\n",
        "\n",
        "# Melatih model\n",
        "xgb_model.fit(X_train, y_train)\n",
        "\n",
        "# 5. Prediksi pada data training\n",
        "y_train_pred = xgb_model.predict(X_train)\n",
        "\n",
        "print(\"Hasil evaluasi menggunakan data pelatihan:\")\n",
        "train_accuracy = accuracy_score(y_train, y_train_pred)\n",
        "train_report = classification_report(y_train, y_train_pred)\n",
        "print(\"Akurasi pada Data Pelatihan:\", train_accuracy)\n",
        "print(\"Laporan Klasifikasi:\")\n",
        "print(train_report)\n",
        "print(\"-\" * 50)\n",
        "\n",
        "# 6. Prediksi pada data test\n",
        "y_test_pred = xgb_model.predict(X_test)\n",
        "\n",
        "print(\"Hasil evaluasi menggunakan data test:\")\n",
        "test_accuracy = accuracy_score(y_test, y_test_pred)\n",
        "test_report = classification_report(y_test, y_test_pred)\n",
        "print(\"Akurasi pada Data Test:\", test_accuracy)\n",
        "print(\"Laporan Klasifikasi:\")\n",
        "print(test_report)"
      ],
      "metadata": {
        "id": "ZwTCN4ywcgqM",
        "colab": {
          "base_uri": "https://localhost:8080/"
        },
        "outputId": "5884ecf2-fabf-4580-976d-ab396ce5df14"
      },
      "execution_count": null,
      "outputs": [
        {
          "output_type": "stream",
          "name": "stderr",
          "text": [
            "/usr/local/lib/python3.10/dist-packages/xgboost/core.py:158: UserWarning: [16:30:31] WARNING: /workspace/src/learner.cc:740: \n",
            "Parameters: { \"use_label_encoder\" } are not used.\n",
            "\n",
            "  warnings.warn(smsg, UserWarning)\n"
          ]
        },
        {
          "output_type": "stream",
          "name": "stdout",
          "text": [
            "Hasil evaluasi menggunakan data pelatihan:\n",
            "Akurasi pada Data Pelatihan: 0.999763903231216\n",
            "Laporan Klasifikasi:\n",
            "              precision    recall  f1-score   support\n",
            "\n",
            "           0       1.00      1.00      1.00    226790\n",
            "           1       1.00      1.00      1.00    226414\n",
            "\n",
            "    accuracy                           1.00    453204\n",
            "   macro avg       1.00      1.00      1.00    453204\n",
            "weighted avg       1.00      1.00      1.00    453204\n",
            "\n",
            "--------------------------------------------------\n",
            "Hasil evaluasi menggunakan data test:\n",
            "Akurasi pada Data Test: 0.9992409666201832\n",
            "Laporan Klasifikasi:\n",
            "              precision    recall  f1-score   support\n",
            "\n",
            "           0       1.00      1.00      1.00     56463\n",
            "           1       1.00      1.00      1.00     56839\n",
            "\n",
            "    accuracy                           1.00    113302\n",
            "   macro avg       1.00      1.00      1.00    113302\n",
            "weighted avg       1.00      1.00      1.00    113302\n",
            "\n"
          ]
        }
      ]
    },
    {
      "cell_type": "markdown",
      "source": [
        "Skenario 4 : Dataset 2, Dengan KFold"
      ],
      "metadata": {
        "id": "BQxeCUdScg7O"
      }
    },
    {
      "cell_type": "code",
      "source": [
        "import pandas as pd\n",
        "from xgboost import XGBClassifier\n",
        "from sklearn.metrics import accuracy_score, classification_report\n",
        "from sklearn.model_selection import KFold\n",
        "\n",
        "# 1. Import dataset\n",
        "data_train = pd.read_csv('dataset2.csv')\n",
        "\n",
        "# 2. Pisahkan fitur (X) dan label (y)\n",
        "X = data_train.drop('Class', axis=1)\n",
        "y = data_train['Class'].astype('int64')\n",
        "\n",
        "# 3. K-Fold Cross Validation\n",
        "kf = KFold(n_splits=5, shuffle=True, random_state=42)\n",
        "\n",
        "# 4. Model XGBoost\n",
        "xgb_model = XGBClassifier(use_label_encoder=False, eval_metric='logloss', random_state=42)\n",
        "\n",
        "# Menyimpan hasil evaluasi\n",
        "fold = 1\n",
        "accuracy_scores = []\n",
        "\n",
        "print(\"Evaluasi Model XGBoost Menggunakan K-Fold Cross Validation (k=5)\\n\")\n",
        "\n",
        "for train_index, test_index in kf.split(X):\n",
        "    # Membagi data berdasarkan indeks dari K-Fold\n",
        "    X_train, X_test = X.iloc[train_index], X.iloc[test_index]\n",
        "    y_train, y_test = y.iloc[train_index], y.iloc[test_index]\n",
        "\n",
        "    # Melatih model\n",
        "    xgb_model.fit(X_train, y_train)\n",
        "\n",
        "    # Prediksi pada data test\n",
        "    y_pred = xgb_model.predict(X_test)\n",
        "\n",
        "    # Evaluasi performa model\n",
        "    fold_accuracy = accuracy_score(y_test, y_pred)\n",
        "    accuracy_scores.append(fold_accuracy)\n",
        "\n",
        "    print(f\"Fold {fold}\")\n",
        "    print(\"Akurasi:\", fold_accuracy)\n",
        "    print(\"Laporan Klasifikasi:\")\n",
        "    print(classification_report(y_test, y_pred))\n",
        "    print(\"-\" * 50)\n",
        "\n",
        "    fold += 1\n",
        "\n",
        "# Rata-rata akurasi\n",
        "mean_accuracy = sum(accuracy_scores) / len(accuracy_scores)\n",
        "print(\"Rata-rata Akurasi dari 5-Fold Cross Validation:\", mean_accuracy)\n"
      ],
      "metadata": {
        "id": "6pfPEueBcjaB",
        "colab": {
          "base_uri": "https://localhost:8080/"
        },
        "outputId": "46888dd6-35dc-4ca6-bd36-4f07f2d0f93f"
      },
      "execution_count": null,
      "outputs": [
        {
          "output_type": "stream",
          "name": "stdout",
          "text": [
            "Evaluasi Model XGBoost Menggunakan K-Fold Cross Validation (k=5)\n",
            "\n"
          ]
        },
        {
          "output_type": "stream",
          "name": "stderr",
          "text": [
            "/usr/local/lib/python3.10/dist-packages/xgboost/core.py:158: UserWarning: [16:30:44] WARNING: /workspace/src/learner.cc:740: \n",
            "Parameters: { \"use_label_encoder\" } are not used.\n",
            "\n",
            "  warnings.warn(smsg, UserWarning)\n"
          ]
        },
        {
          "output_type": "stream",
          "name": "stdout",
          "text": [
            "Fold 1\n",
            "Akurasi: 0.9991880108029867\n",
            "Laporan Klasifikasi:\n",
            "              precision    recall  f1-score   support\n",
            "\n",
            "           0       1.00      1.00      1.00     56463\n",
            "           1       1.00      1.00      1.00     56839\n",
            "\n",
            "    accuracy                           1.00    113302\n",
            "   macro avg       1.00      1.00      1.00    113302\n",
            "weighted avg       1.00      1.00      1.00    113302\n",
            "\n",
            "--------------------------------------------------\n"
          ]
        },
        {
          "output_type": "stream",
          "name": "stderr",
          "text": [
            "/usr/local/lib/python3.10/dist-packages/xgboost/core.py:158: UserWarning: [16:30:51] WARNING: /workspace/src/learner.cc:740: \n",
            "Parameters: { \"use_label_encoder\" } are not used.\n",
            "\n",
            "  warnings.warn(smsg, UserWarning)\n"
          ]
        },
        {
          "output_type": "stream",
          "name": "stdout",
          "text": [
            "Fold 2\n",
            "Akurasi: 0.9992762641106433\n",
            "Laporan Klasifikasi:\n",
            "              precision    recall  f1-score   support\n",
            "\n",
            "           0       1.00      1.00      1.00     56751\n",
            "           1       1.00      1.00      1.00     56550\n",
            "\n",
            "    accuracy                           1.00    113301\n",
            "   macro avg       1.00      1.00      1.00    113301\n",
            "weighted avg       1.00      1.00      1.00    113301\n",
            "\n",
            "--------------------------------------------------\n"
          ]
        },
        {
          "output_type": "stream",
          "name": "stderr",
          "text": [
            "/usr/local/lib/python3.10/dist-packages/xgboost/core.py:158: UserWarning: [16:30:59] WARNING: /workspace/src/learner.cc:740: \n",
            "Parameters: { \"use_label_encoder\" } are not used.\n",
            "\n",
            "  warnings.warn(smsg, UserWarning)\n"
          ]
        },
        {
          "output_type": "stream",
          "name": "stdout",
          "text": [
            "Fold 3\n",
            "Akurasi: 0.999311568300368\n",
            "Laporan Klasifikasi:\n",
            "              precision    recall  f1-score   support\n",
            "\n",
            "           0       1.00      1.00      1.00     56687\n",
            "           1       1.00      1.00      1.00     56614\n",
            "\n",
            "    accuracy                           1.00    113301\n",
            "   macro avg       1.00      1.00      1.00    113301\n",
            "weighted avg       1.00      1.00      1.00    113301\n",
            "\n",
            "--------------------------------------------------\n"
          ]
        },
        {
          "output_type": "stream",
          "name": "stderr",
          "text": [
            "/usr/local/lib/python3.10/dist-packages/xgboost/core.py:158: UserWarning: [16:31:04] WARNING: /workspace/src/learner.cc:740: \n",
            "Parameters: { \"use_label_encoder\" } are not used.\n",
            "\n",
            "  warnings.warn(smsg, UserWarning)\n"
          ]
        },
        {
          "output_type": "stream",
          "name": "stdout",
          "text": [
            "Fold 4\n",
            "Akurasi: 0.9992056557311939\n",
            "Laporan Klasifikasi:\n",
            "              precision    recall  f1-score   support\n",
            "\n",
            "           0       1.00      1.00      1.00     56597\n",
            "           1       1.00      1.00      1.00     56704\n",
            "\n",
            "    accuracy                           1.00    113301\n",
            "   macro avg       1.00      1.00      1.00    113301\n",
            "weighted avg       1.00      1.00      1.00    113301\n",
            "\n",
            "--------------------------------------------------\n"
          ]
        },
        {
          "output_type": "stream",
          "name": "stderr",
          "text": [
            "/usr/local/lib/python3.10/dist-packages/xgboost/core.py:158: UserWarning: [16:31:12] WARNING: /workspace/src/learner.cc:740: \n",
            "Parameters: { \"use_label_encoder\" } are not used.\n",
            "\n",
            "  warnings.warn(smsg, UserWarning)\n"
          ]
        },
        {
          "output_type": "stream",
          "name": "stdout",
          "text": [
            "Fold 5\n",
            "Akurasi: 0.9993380464426616\n",
            "Laporan Klasifikasi:\n",
            "              precision    recall  f1-score   support\n",
            "\n",
            "           0       1.00      1.00      1.00     56755\n",
            "           1       1.00      1.00      1.00     56546\n",
            "\n",
            "    accuracy                           1.00    113301\n",
            "   macro avg       1.00      1.00      1.00    113301\n",
            "weighted avg       1.00      1.00      1.00    113301\n",
            "\n",
            "--------------------------------------------------\n",
            "Rata-rata Akurasi dari 5-Fold Cross Validation: 0.9992639090775708\n"
          ]
        }
      ]
    }
  ]
}